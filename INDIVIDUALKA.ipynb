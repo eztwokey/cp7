{
 "cells": [
  {
   "cell_type": "code",
   "execution_count": null,
   "metadata": {},
   "outputs": [],
   "source": [
    "import pandas as pd\n",
    "import numpy as np\n",
    "tv = ['tv_1']\n",
    "df = pd.DataFrame(columns = ['Название товара', 'Название магазина', 'Стоимость'])\n",
    "cnt_col = df.shape[1]\n",
    "while True:\n",
    "    student = [input('Название товара;:\\n')]\n",
    "    student.append(input('Название магазина, в котором продается товар;:\\n'))\n",
    "    student.extend(list(map(int,input('Стоимость товара в руб.:\\n').split())))\n",
    "    k = len(student)\n",
    "    if k > cnt_col:\n",
    "        tv = []\n",
    "        while k > cnt_col:\n",
    "            tv.append('tv_' + str(cnt_col-1))\n",
    "            cnt_col += 1\n",
    "        df = pd.concat([df,pd.DataFrame(columns=tv)])  \n",
    "    df.loc[len(df)] = student + [np.nan] * (cnt_col-k)\n",
    "    query = input('Еще есть товары? -> 1(да) / 0(нет): ')\n",
    "    if query == '0':\n",
    "        break\n",
    "print()\n",
    "df.iloc[:, 2:] = df.iloc[:, 2:].astype(np.float16)\n",
    "print(df)\n",
    "print()\n",
    "df_4 = df[df.iloc[:, 2:].mean(axis=1) > 4][['Название товара', 'Название магазина', 'Стоимость']]\n",
    "if df_4.empty:\n",
    "    print('Таких товаров нет')\n",
    "else:\n",
    "    print(df_4)"
   ]
  },
  {
   "cell_type": "code",
   "execution_count": null,
   "metadata": {},
   "outputs": [],
   "source": []
  }
 ],
 "metadata": {
  "kernelspec": {
   "display_name": "Python 3",
   "language": "python",
   "name": "python3"
  },
  "language_info": {
   "codemirror_mode": {
    "name": "ipython",
    "version": 3
   },
   "file_extension": ".py",
   "mimetype": "text/x-python",
   "name": "python",
   "nbconvert_exporter": "python",
   "pygments_lexer": "ipython3",
   "version": "3.8.5"
  }
 },
 "nbformat": 4,
 "nbformat_minor": 4
}
