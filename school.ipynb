{
 "cells": [
  {
   "cell_type": "code",
   "execution_count": 1,
   "metadata": {},
   "outputs": [],
   "source": [
    "import numpy as np\n",
    "import pandas as pd"
   ]
  },
  {
   "cell_type": "code",
   "execution_count": 2,
   "metadata": {},
   "outputs": [
    {
     "data": {
      "text/plain": [
       "1а     25\n",
       "1б     24\n",
       "2а     19\n",
       "2б     22\n",
       "3а     29\n",
       "3б     18\n",
       "4а     23\n",
       "4б     21\n",
       "5а     26\n",
       "5б     28\n",
       "6а     21\n",
       "6б     30\n",
       "7а     21\n",
       "7б     22\n",
       "8а     19\n",
       "8б     25\n",
       "9а     22\n",
       "9б     18\n",
       "10а    14\n",
       "10б    13\n",
       "11а    10\n",
       "11б    11\n",
       "dtype: int64"
      ]
     },
     "execution_count": 2,
     "metadata": {},
     "output_type": "execute_result"
    }
   ],
   "source": [
    "school = pd.Series([25, 24, 19, 22, 29, 18, 23, 21, 26, 28, 21, 30, 21, 22, 19, 25, 22, 18, 14, 13, 10, 11], \n",
    "                   ['1а', '1б', '2а', '2б', '3а', '3б', '4а', '4б', '5а', '5б', '6а', '6б', '7а', '7б', '8а', '8б',\n",
    "                    '9а', '9б', '10а', '10б', '11а', '11б'])\n",
    "school"
   ]
  },
  {
   "cell_type": "code",
   "execution_count": 3,
   "metadata": {},
   "outputs": [
    {
     "data": {
      "text/plain": [
       "1а     25\n",
       "1б     24\n",
       "2а     19\n",
       "2б     22\n",
       "3а     29\n",
       "3б     18\n",
       "4а     23\n",
       "4б     21\n",
       "5а     26\n",
       "5б     28\n",
       "6а     21\n",
       "6б     30\n",
       "7а     21\n",
       "7б     22\n",
       "8а     19\n",
       "8б     25\n",
       "9а     22\n",
       "9б     18\n",
       "10а    14\n",
       "10б    13\n",
       "11а    10\n",
       "11б    33\n",
       "dtype: int64"
      ]
     },
     "execution_count": 3,
     "metadata": {},
     "output_type": "execute_result"
    }
   ],
   "source": [
    "school['11б'] = 33\n",
    "school"
   ]
  },
  {
   "cell_type": "code",
   "execution_count": 4,
   "metadata": {},
   "outputs": [
    {
     "data": {
      "text/plain": [
       "1а     25\n",
       "1б     24\n",
       "2а     19\n",
       "2б     22\n",
       "3а     29\n",
       "3б     18\n",
       "4а     23\n",
       "4б     21\n",
       "5а     26\n",
       "5б     28\n",
       "6а     21\n",
       "6б     30\n",
       "7а     21\n",
       "7б     22\n",
       "8а     19\n",
       "8б     25\n",
       "9а     22\n",
       "9б     18\n",
       "10а    14\n",
       "10б    13\n",
       "11а    10\n",
       "11б    33\n",
       "11в    12\n",
       "dtype: int64"
      ]
     },
     "execution_count": 4,
     "metadata": {},
     "output_type": "execute_result"
    }
   ],
   "source": [
    "school.append(pd.Series([12], ['11в']))"
   ]
  },
  {
   "cell_type": "code",
   "execution_count": 5,
   "metadata": {},
   "outputs": [
    {
     "data": {
      "text/plain": [
       "1а     25\n",
       "1б     24\n",
       "2а     19\n",
       "2б     22\n",
       "3а     29\n",
       "3б     18\n",
       "4б     21\n",
       "5а     26\n",
       "5б     28\n",
       "6а     21\n",
       "6б     30\n",
       "7а     21\n",
       "7б     22\n",
       "8а     19\n",
       "8б     25\n",
       "9а     22\n",
       "9б     18\n",
       "10а    14\n",
       "10б    13\n",
       "11а    10\n",
       "11б    33\n",
       "dtype: int64"
      ]
     },
     "execution_count": 5,
     "metadata": {},
     "output_type": "execute_result"
    }
   ],
   "source": [
    "school.drop(school.index[6])"
   ]
  },
  {
   "cell_type": "code",
   "execution_count": 6,
   "metadata": {},
   "outputs": [
    {
     "data": {
      "text/plain": [
       "483"
      ]
     },
     "execution_count": 6,
     "metadata": {},
     "output_type": "execute_result"
    }
   ],
   "source": [
    "school.sum()"
   ]
  }
 ],
 "metadata": {
  "kernelspec": {
   "display_name": "Python 3",
   "language": "python",
   "name": "python3"
  },
  "language_info": {
   "codemirror_mode": {
    "name": "ipython",
    "version": 3
   },
   "file_extension": ".py",
   "mimetype": "text/x-python",
   "name": "python",
   "nbconvert_exporter": "python",
   "pygments_lexer": "ipython3",
   "version": "3.8.5"
  }
 },
 "nbformat": 4,
 "nbformat_minor": 4
}
